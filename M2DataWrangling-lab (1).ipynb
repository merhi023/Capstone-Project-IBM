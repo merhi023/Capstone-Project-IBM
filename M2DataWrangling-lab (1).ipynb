{
 "cells": [
  {
   "cell_type": "markdown",
   "metadata": {},
   "source": [
    "<p style=\"text-align:center\">\n",
    "    <a href=\"https://skills.network/?utm_medium=Exinfluencer&utm_source=Exinfluencer&utm_content=000026UJ&utm_term=10006555&utm_id=NA-SkillsNetwork-Channel-SkillsNetworkCoursesIBMDA0321ENSkillsNetwork928-2022-01-01\" target=\"_blank\">\n",
    "    <img src=\"https://cf-courses-data.s3.us.cloud-object-storage.appdomain.cloud/assets/logos/SN_web_lightmode.png\" width=\"200\" alt=\"Skills Network Logo\"  />\n",
    "    </a>\n",
    "</p>\n"
   ]
  },
  {
   "cell_type": "markdown",
   "metadata": {},
   "source": [
    "# **Data Wrangling Lab**\n"
   ]
  },
  {
   "cell_type": "markdown",
   "metadata": {},
   "source": [
    "Estimated time needed: **45 to 60** minutes\n"
   ]
  },
  {
   "cell_type": "markdown",
   "metadata": {},
   "source": [
    "In this assignment you will be performing data wrangling.\n"
   ]
  },
  {
   "cell_type": "markdown",
   "metadata": {},
   "source": [
    "## Objectives\n"
   ]
  },
  {
   "cell_type": "markdown",
   "metadata": {},
   "source": [
    "In this lab you will perform the following:\n"
   ]
  },
  {
   "cell_type": "markdown",
   "metadata": {},
   "source": [
    "-   Identify duplicate values in the dataset.\n",
    "\n",
    "-   Remove duplicate values from the dataset.\n",
    "\n",
    "-   Identify missing values in the dataset.\n",
    "\n",
    "-   Impute the missing values in the dataset.\n",
    "\n",
    "-   Normalize data in the dataset.\n"
   ]
  },
  {
   "cell_type": "markdown",
   "metadata": {},
   "source": [
    "<hr>\n"
   ]
  },
  {
   "cell_type": "markdown",
   "metadata": {},
   "source": [
    "## Hands on Lab\n"
   ]
  },
  {
   "cell_type": "markdown",
   "metadata": {},
   "source": [
    "Import pandas module.\n"
   ]
  },
  {
   "cell_type": "code",
   "execution_count": 1,
   "metadata": {},
   "outputs": [],
   "source": [
    "import pandas as pd"
   ]
  },
  {
   "cell_type": "markdown",
   "metadata": {},
   "source": [
    "Load the dataset into a dataframe.\n"
   ]
  },
  {
   "cell_type": "code",
   "execution_count": 2,
   "metadata": {},
   "outputs": [],
   "source": [
    "df = pd.read_csv(\"https://cf-courses-data.s3.us.cloud-object-storage.appdomain.cloud/IBM-DA0321EN-SkillsNetwork/LargeData/m1_survey_data.csv\")"
   ]
  },
  {
   "cell_type": "markdown",
   "metadata": {},
   "source": [
    "## Finding duplicates\n"
   ]
  },
  {
   "cell_type": "markdown",
   "metadata": {},
   "source": [
    "In this section you will identify duplicate values in the dataset.\n"
   ]
  },
  {
   "cell_type": "markdown",
   "metadata": {},
   "source": [
    " Find how many duplicate rows exist in the dataframe.\n"
   ]
  },
  {
   "cell_type": "code",
   "execution_count": 3,
   "metadata": {},
   "outputs": [
    {
     "name": "stdout",
     "output_type": "stream",
     "text": [
      "Duplicate Rows :       Respondent                                         MainBranch Hobbyist  \\\n",
      "1168        2339                     I am a developer by profession      Yes   \n",
      "1169        2342                     I am a developer by profession      Yes   \n",
      "1170        2343                     I am a developer by profession      Yes   \n",
      "1171        2344                     I am a developer by profession      Yes   \n",
      "1172        2347                     I am a developer by profession      Yes   \n",
      "...          ...                                                ...      ...   \n",
      "2297        4674  I am not primarily a developer, but I write co...      Yes   \n",
      "2298        4675                     I am a developer by profession      Yes   \n",
      "2299        4676                     I am a developer by profession      Yes   \n",
      "2300        4677                     I am a developer by profession      Yes   \n",
      "2301        4679                     I am a developer by profession      Yes   \n",
      "\n",
      "                                            OpenSourcer  \\\n",
      "1168                         Once a month or more often   \n",
      "1169                                              Never   \n",
      "1170  Less than once a month but more than once per ...   \n",
      "1171                                              Never   \n",
      "1172                                              Never   \n",
      "...                                                 ...   \n",
      "2297                            Less than once per year   \n",
      "2298                                              Never   \n",
      "2299                                              Never   \n",
      "2300                         Once a month or more often   \n",
      "2301  Less than once a month but more than once per ...   \n",
      "\n",
      "                                             OpenSource          Employment  \\\n",
      "1168  OSS is, on average, of HIGHER quality than pro...  Employed full-time   \n",
      "1169  The quality of OSS and closed source software ...  Employed full-time   \n",
      "1170  OSS is, on average, of LOWER quality than prop...  Employed full-time   \n",
      "1171  The quality of OSS and closed source software ...  Employed full-time   \n",
      "1172  OSS is, on average, of HIGHER quality than pro...  Employed full-time   \n",
      "...                                                 ...                 ...   \n",
      "2297  The quality of OSS and closed source software ...  Employed full-time   \n",
      "2298  OSS is, on average, of HIGHER quality than pro...  Employed full-time   \n",
      "2299  OSS is, on average, of HIGHER quality than pro...  Employed full-time   \n",
      "2300  OSS is, on average, of HIGHER quality than pro...  Employed full-time   \n",
      "2301  The quality of OSS and closed source software ...  Employed full-time   \n",
      "\n",
      "             Country Student  \\\n",
      "1168   United States      No   \n",
      "1169  United Kingdom      No   \n",
      "1170          Canada      No   \n",
      "1171   United States      No   \n",
      "1172  United Kingdom      No   \n",
      "...              ...     ...   \n",
      "2297      Bangladesh      No   \n",
      "2298   United States      No   \n",
      "2299         Finland      No   \n",
      "2300  United Kingdom      No   \n",
      "2301   United States      No   \n",
      "\n",
      "                                                EdLevel  \\\n",
      "1168  Some college/university study without earning ...   \n",
      "1169  Some college/university study without earning ...   \n",
      "1170        Master’s degree (MA, MS, M.Eng., MBA, etc.)   \n",
      "1171           Bachelor’s degree (BA, BS, B.Eng., etc.)   \n",
      "1172        Master’s degree (MA, MS, M.Eng., MBA, etc.)   \n",
      "...                                                 ...   \n",
      "2297           Bachelor’s degree (BA, BS, B.Eng., etc.)   \n",
      "2298           Bachelor’s degree (BA, BS, B.Eng., etc.)   \n",
      "2299        Master’s degree (MA, MS, M.Eng., MBA, etc.)   \n",
      "2300           Bachelor’s degree (BA, BS, B.Eng., etc.)   \n",
      "2301        Master’s degree (MA, MS, M.Eng., MBA, etc.)   \n",
      "\n",
      "                                         UndergradMajor  ...  \\\n",
      "1168  Computer science, computer engineering, or sof...  ...   \n",
      "1169  Information systems, information technology, o...  ...   \n",
      "1170  Computer science, computer engineering, or sof...  ...   \n",
      "1171  Computer science, computer engineering, or sof...  ...   \n",
      "1172  Computer science, computer engineering, or sof...  ...   \n",
      "...                                                 ...  ...   \n",
      "2297                                                NaN  ...   \n",
      "2298  Information systems, information technology, o...  ...   \n",
      "2299  Another engineering discipline (ex. civil, ele...  ...   \n",
      "2300  A natural science (ex. biology, chemistry, phy...  ...   \n",
      "2301  Computer science, computer engineering, or sof...  ...   \n",
      "\n",
      "                                 WelcomeChange  \\\n",
      "1168   Just as welcome now as I felt last year   \n",
      "1169  Somewhat more welcome now than last year   \n",
      "1170  Somewhat more welcome now than last year   \n",
      "1171   Just as welcome now as I felt last year   \n",
      "1172   Just as welcome now as I felt last year   \n",
      "...                                        ...   \n",
      "2297  Somewhat less welcome now than last year   \n",
      "2298   Just as welcome now as I felt last year   \n",
      "2299  Somewhat less welcome now than last year   \n",
      "2300   Just as welcome now as I felt last year   \n",
      "2301   Just as welcome now as I felt last year   \n",
      "\n",
      "                                           SONewContent   Age Gender Trans  \\\n",
      "1168                                                NaN  24.0    Man    No   \n",
      "1169  Tech meetups or events in your area;Courses on...  24.0    Man    No   \n",
      "1170  Tech articles written by other developers;Indu...  27.0    Man    No   \n",
      "1171  Tech articles written by other developers;Indu...  24.0    Man    No   \n",
      "1172                                                NaN   NaN  Woman    No   \n",
      "...                                                 ...   ...    ...   ...   \n",
      "2297  Tech articles written by other developers;Indu...  31.0    Man    No   \n",
      "2298                Tech meetups or events in your area  27.0    Man    No   \n",
      "2299                                                NaN  36.0    Man    No   \n",
      "2300                                                NaN  40.0    Man    No   \n",
      "2301                                                NaN  27.0    Man    No   \n",
      "\n",
      "                                            Sexuality  \\\n",
      "1168                          Straight / Heterosexual   \n",
      "1169                          Straight / Heterosexual   \n",
      "1170                          Straight / Heterosexual   \n",
      "1171                          Straight / Heterosexual   \n",
      "1172                          Straight / Heterosexual   \n",
      "...                                               ...   \n",
      "2297  Bisexual;Gay or Lesbian;Straight / Heterosexual   \n",
      "2298                          Straight / Heterosexual   \n",
      "2299                          Straight / Heterosexual   \n",
      "2300                          Straight / Heterosexual   \n",
      "2301                                              NaN   \n",
      "\n",
      "                                              Ethnicity Dependents  \\\n",
      "1168                       White or of European descent         No   \n",
      "1169                       White or of European descent         No   \n",
      "1170  Black or of African descent;White or of Europe...         No   \n",
      "1171                       White or of European descent         No   \n",
      "1172                                           Biracial         No   \n",
      "...                                                 ...        ...   \n",
      "2297  Black or of African descent;Hispanic or Latino...        Yes   \n",
      "2298                       White or of European descent         No   \n",
      "2299                       White or of European descent        Yes   \n",
      "2300                       White or of European descent        Yes   \n",
      "2301                       White or of European descent         No   \n",
      "\n",
      "               SurveyLength                  SurveyEase  \n",
      "1168  Appropriate in length                        Easy  \n",
      "1169               Too long                        Easy  \n",
      "1170  Appropriate in length  Neither easy nor difficult  \n",
      "1171  Appropriate in length                        Easy  \n",
      "1172               Too long                        Easy  \n",
      "...                     ...                         ...  \n",
      "2297               Too long  Neither easy nor difficult  \n",
      "2298  Appropriate in length                        Easy  \n",
      "2299               Too long                        Easy  \n",
      "2300  Appropriate in length                        Easy  \n",
      "2301  Appropriate in length                        Easy  \n",
      "\n",
      "[154 rows x 85 columns]\n"
     ]
    }
   ],
   "source": [
    "duplicate = df[df.duplicated()]  \n",
    "\n",
    "print(\"Duplicate Rows :\", duplicate)"
   ]
  },
  {
   "cell_type": "markdown",
   "metadata": {},
   "source": [
    "## Removing duplicates\n"
   ]
  },
  {
   "cell_type": "markdown",
   "metadata": {},
   "source": [
    "Remove the duplicate rows from the dataframe.\n"
   ]
  },
  {
   "cell_type": "code",
   "execution_count": 4,
   "metadata": {},
   "outputs": [],
   "source": [
    "df = df.drop_duplicates()"
   ]
  },
  {
   "cell_type": "markdown",
   "metadata": {},
   "source": [
    "Verify if duplicates were actually dropped.\n"
   ]
  },
  {
   "cell_type": "code",
   "execution_count": 5,
   "metadata": {},
   "outputs": [
    {
     "data": {
      "text/plain": [
       "(11398, 85)"
      ]
     },
     "execution_count": 5,
     "metadata": {},
     "output_type": "execute_result"
    }
   ],
   "source": [
    "# your code goes here\n",
    "df.shape"
   ]
  },
  {
   "cell_type": "markdown",
   "metadata": {},
   "source": [
    "## Finding Missing values\n"
   ]
  },
  {
   "cell_type": "markdown",
   "metadata": {},
   "source": [
    "Find the missing values for all columns.\n"
   ]
  },
  {
   "cell_type": "code",
   "execution_count": 6,
   "metadata": {},
   "outputs": [
    {
     "data": {
      "text/plain": [
       "Respondent        0\n",
       "MainBranch        0\n",
       "Hobbyist          0\n",
       "OpenSourcer       0\n",
       "OpenSource       81\n",
       "               ... \n",
       "Sexuality       542\n",
       "Ethnicity       675\n",
       "Dependents      140\n",
       "SurveyLength     19\n",
       "SurveyEase       14\n",
       "Length: 85, dtype: int64"
      ]
     },
     "execution_count": 6,
     "metadata": {},
     "output_type": "execute_result"
    }
   ],
   "source": [
    "df.isnull().sum()"
   ]
  },
  {
   "cell_type": "markdown",
   "metadata": {},
   "source": [
    "Find out how many rows are missing in the column 'WorkLoc'\n"
   ]
  },
  {
   "cell_type": "code",
   "execution_count": 7,
   "metadata": {},
   "outputs": [
    {
     "data": {
      "text/plain": [
       "32"
      ]
     },
     "execution_count": 7,
     "metadata": {},
     "output_type": "execute_result"
    }
   ],
   "source": [
    "df['WorkLoc'].isna().sum()"
   ]
  },
  {
   "cell_type": "markdown",
   "metadata": {},
   "source": [
    "## Imputing missing values\n"
   ]
  },
  {
   "cell_type": "markdown",
   "metadata": {},
   "source": [
    "Find the  value counts for the column WorkLoc.\n"
   ]
  },
  {
   "cell_type": "code",
   "execution_count": 8,
   "metadata": {},
   "outputs": [
    {
     "data": {
      "text/plain": [
       "Office                                            6806\n",
       "Home                                              3589\n",
       "Other place, such as a coworking space or cafe     971\n",
       "Name: WorkLoc, dtype: int64"
      ]
     },
     "execution_count": 8,
     "metadata": {},
     "output_type": "execute_result"
    }
   ],
   "source": [
    "df['WorkLoc'].value_counts()"
   ]
  },
  {
   "cell_type": "markdown",
   "metadata": {},
   "source": [
    "Identify the value that is most frequent (majority) in the WorkLoc column.\n"
   ]
  },
  {
   "cell_type": "code",
   "execution_count": 9,
   "metadata": {},
   "outputs": [
    {
     "data": {
      "text/plain": [
       "'Office'"
      ]
     },
     "execution_count": 9,
     "metadata": {},
     "output_type": "execute_result"
    }
   ],
   "source": [
    "df['WorkLoc'].value_counts().idxmax()"
   ]
  },
  {
   "cell_type": "markdown",
   "metadata": {},
   "source": [
    "Impute (replace) all the empty rows in the column WorkLoc with the value that you have identified as majority.\n"
   ]
  },
  {
   "cell_type": "code",
   "execution_count": 10,
   "metadata": {},
   "outputs": [],
   "source": [
    "df['WorkLoc'].dropna(inplace=True)\n",
    "df['WorkLoc'].replace('',df['WorkLoc'][1], inplace=True)"
   ]
  },
  {
   "cell_type": "markdown",
   "metadata": {},
   "source": [
    "After imputation there should ideally not be any empty rows in the WorkLoc column.\n"
   ]
  },
  {
   "cell_type": "markdown",
   "metadata": {},
   "source": [
    "Verify if imputing was successful.\n"
   ]
  },
  {
   "cell_type": "code",
   "execution_count": 11,
   "metadata": {},
   "outputs": [
    {
     "data": {
      "text/plain": [
       "0        False\n",
       "1        False\n",
       "2        False\n",
       "3        False\n",
       "4        False\n",
       "         ...  \n",
       "11547    False\n",
       "11548    False\n",
       "11549    False\n",
       "11550    False\n",
       "11551    False\n",
       "Name: WorkLoc, Length: 11398, dtype: bool"
      ]
     },
     "execution_count": 11,
     "metadata": {},
     "output_type": "execute_result"
    }
   ],
   "source": [
    "df['WorkLoc'].isnull()"
   ]
  },
  {
   "cell_type": "markdown",
   "metadata": {},
   "source": [
    "## Normalizing data\n"
   ]
  },
  {
   "cell_type": "markdown",
   "metadata": {},
   "source": [
    "There are two columns in the dataset that talk about compensation.\n",
    "\n",
    "One is \"CompFreq\". This column shows how often a developer is paid (Yearly, Monthly, Weekly).\n",
    "\n",
    "The other is \"CompTotal\". This column talks about how much the developer is paid per Year, Month, or Week depending upon his/her \"CompFreq\". \n",
    "\n",
    "This makes it difficult to compare the total compensation of the developers.\n",
    "\n",
    "In this section you will create a new column called 'NormalizedAnnualCompensation' which contains the 'Annual Compensation' irrespective of the 'CompFreq'.\n",
    "\n",
    "Once this column is ready, it makes comparison of salaries easy.\n"
   ]
  },
  {
   "cell_type": "markdown",
   "metadata": {},
   "source": [
    "<hr>\n"
   ]
  },
  {
   "cell_type": "markdown",
   "metadata": {},
   "source": [
    "List out the various categories in the column 'CompFreq'\n"
   ]
  },
  {
   "cell_type": "code",
   "execution_count": 12,
   "metadata": {},
   "outputs": [
    {
     "data": {
      "text/plain": [
       "Yearly     6073\n",
       "Monthly    4788\n",
       "Weekly      331\n",
       "Name: CompFreq, dtype: int64"
      ]
     },
     "execution_count": 12,
     "metadata": {},
     "output_type": "execute_result"
    }
   ],
   "source": [
    "df['CompFreq'].value_counts()"
   ]
  },
  {
   "cell_type": "markdown",
   "metadata": {},
   "source": [
    "Create a new column named 'NormalizedAnnualCompensation'. Use the hint given below if needed.\n"
   ]
  },
  {
   "cell_type": "markdown",
   "metadata": {},
   "source": [
    "Double click to see the **Hint**.\n",
    "\n",
    "<!--\n",
    "\n",
    "Use the below logic to arrive at the values for the column NormalizedAnnualCompensation.\n",
    "\n",
    "If the CompFreq is Yearly then use the exising value in CompTotal\n",
    "If the CompFreq is Monthly then multiply the value in CompTotal with 12 (months in an year)\n",
    "If the CompFreq is Weekly then multiply the value in CompTotal with 52 (weeks in an year)\n",
    "\n",
    "-->\n"
   ]
  },
  {
   "cell_type": "code",
   "execution_count": 14,
   "metadata": {},
   "outputs": [],
   "source": [
    "def fillComp(freq,total):\n",
    "\n",
    "    if freq == 'Yearly':\n",
    "\n",
    "        return total\n",
    "\n",
    "    elif freq == 'Monthly':\n",
    "\n",
    "        return total * 12\n",
    "\n",
    "    elif freq == \"Weekly\":\n",
    "\n",
    "        return total * 52\n",
    "\n",
    "df['NormalizedAnnualCompensation'] = df.apply(lambda row : fillComp(row['CompFreq'],row['CompTotal']), axis = 1)"
   ]
  },
  {
   "cell_type": "markdown",
   "metadata": {},
   "source": [
    "## Authors\n"
   ]
  },
  {
   "cell_type": "markdown",
   "metadata": {},
   "source": [
    "Ramesh Sannareddy\n"
   ]
  },
  {
   "cell_type": "markdown",
   "metadata": {},
   "source": [
    "### Other Contributors\n"
   ]
  },
  {
   "cell_type": "markdown",
   "metadata": {},
   "source": [
    "Rav Ahuja\n"
   ]
  },
  {
   "cell_type": "markdown",
   "metadata": {},
   "source": [
    "## Change Log\n"
   ]
  },
  {
   "cell_type": "markdown",
   "metadata": {},
   "source": [
    "| Date (YYYY-MM-DD) | Version | Changed By        | Change Description                 |\n",
    "| ----------------- | ------- | ----------------- | ---------------------------------- |\n",
    "| 2020-10-17        | 0.1     | Ramesh Sannareddy | Created initial version of the lab |\n"
   ]
  },
  {
   "cell_type": "markdown",
   "metadata": {},
   "source": [
    " Copyright © 2020 IBM Corporation. This notebook and its source code are released under the terms of the [MIT License](https://cognitiveclass.ai/mit-license?utm_medium=Exinfluencer&utm_source=Exinfluencer&utm_content=000026UJ&utm_term=10006555&utm_id=NA-SkillsNetwork-Channel-SkillsNetworkCoursesIBMDA0321ENSkillsNetwork928-2022-01-01&cm_mmc=Email_Newsletter-_-Developer_Ed%2BTech-_-WW_WW-_-SkillsNetwork-Courses-IBM-DA0321EN-SkillsNetwork-21426264&cm_mmca1=000026UJ&cm_mmca2=10006555&cm_mmca3=M12345678&cvosrc=email.Newsletter.M12345678&cvo_campaign=000026UJ).\n"
   ]
  }
 ],
 "metadata": {
  "kernelspec": {
   "display_name": "Python",
   "language": "python",
   "name": "conda-env-python-py"
  },
  "language_info": {
   "codemirror_mode": {
    "name": "ipython",
    "version": 3
   },
   "file_extension": ".py",
   "mimetype": "text/x-python",
   "name": "python",
   "nbconvert_exporter": "python",
   "pygments_lexer": "ipython3",
   "version": "3.7.12"
  }
 },
 "nbformat": 4,
 "nbformat_minor": 4
}
